{
 "cells": [
  {
   "cell_type": "code",
   "execution_count": 1,
   "id": "d36769d9",
   "metadata": {},
   "outputs": [],
   "source": [
    "import os\n",
    "import wandb\n",
    "import numpy as np\n",
    "import tensorflow as tf\n",
    "import matplotlib.pyplot as plt\n",
    "from PIL import Image\n",
    "\n",
    "plt.style.use('seaborn')\n",
    "%matplotlib inline"
   ]
  },
  {
   "cell_type": "markdown",
   "id": "1b74217b",
   "metadata": {},
   "source": [
    "### Image Size"
   ]
  },
  {
   "cell_type": "code",
   "execution_count": 2,
   "id": "e0740517",
   "metadata": {},
   "outputs": [
    {
     "data": {
      "text/plain": [
       "(64, 64)"
      ]
     },
     "execution_count": 2,
     "metadata": {},
     "output_type": "execute_result"
    }
   ],
   "source": [
    "img = Image.open('dataset/train/smile/file0001.jpg')\n",
    "img.size"
   ]
  },
  {
   "cell_type": "code",
   "execution_count": 3,
   "id": "8c6d0143",
   "metadata": {},
   "outputs": [],
   "source": [
    "for img in os.listdir('dataset/train/smile'):\n",
    "    img = Image.open(f'dataset/train/smile/{img}')\n",
    "    assert img.size == (64, 64)"
   ]
  },
  {
   "cell_type": "code",
   "execution_count": 4,
   "id": "22ed9a73",
   "metadata": {},
   "outputs": [],
   "source": [
    "for img in os.listdir('dataset/train/not_smile'):\n",
    "    img = Image.open(f'dataset/train/not_smile/{img}')\n",
    "    assert img.size == (64, 64)"
   ]
  },
  {
   "cell_type": "code",
   "execution_count": 5,
   "id": "084e7f52",
   "metadata": {},
   "outputs": [],
   "source": [
    "for img in os.listdir('dataset/test/smile'):\n",
    "    img = Image.open(f'dataset/test/smile/{img}')\n",
    "    assert img.size == (64, 64)"
   ]
  },
  {
   "cell_type": "code",
   "execution_count": 6,
   "id": "1a4a8c32",
   "metadata": {},
   "outputs": [],
   "source": [
    "for img in os.listdir('dataset/test/not_smile'):\n",
    "    img = Image.open(f'dataset/test/not_smile/{img}')\n",
    "    assert img.size == (64, 64)"
   ]
  },
  {
   "cell_type": "markdown",
   "id": "d309e97b",
   "metadata": {},
   "source": [
    "### Hyperparameters"
   ]
  },
  {
   "cell_type": "code",
   "execution_count": 7,
   "id": "72e5f9ae",
   "metadata": {},
   "outputs": [],
   "source": [
    "config = {\n",
    "    'seed': 42,\n",
    "    'img_size': 64,\n",
    "    'color_mode': 'rgb',\n",
    "    'batch_size': 64,\n",
    "    'epochs': 50,\n",
    "    'lr': 1e-3,\n",
    "}"
   ]
  },
  {
   "cell_type": "markdown",
   "id": "f13074ec",
   "metadata": {},
   "source": [
    "### Dataset"
   ]
  },
  {
   "cell_type": "code",
   "execution_count": 8,
   "id": "d2f26b5a",
   "metadata": {},
   "outputs": [
    {
     "name": "stdout",
     "output_type": "stream",
     "text": [
      "\n",
      "Training Dataset\n",
      "Found 2800 files belonging to 2 classes.\n",
      "Using 2240 files for training.\n",
      "Metal device set to: Apple M1\n",
      "\n",
      "Validation Dataset\n",
      "Found 2800 files belonging to 2 classes.\n",
      "Using 560 files for validation.\n",
      "\n",
      "Testing Dataset\n",
      "Found 1200 files belonging to 2 classes.\n"
     ]
    },
    {
     "name": "stderr",
     "output_type": "stream",
     "text": [
      "2022-06-07 11:44:25.618072: I tensorflow/core/common_runtime/pluggable_device/pluggable_device_factory.cc:305] Could not identify NUMA node of platform GPU ID 0, defaulting to 0. Your kernel may not have been built with NUMA support.\n",
      "2022-06-07 11:44:25.618195: I tensorflow/core/common_runtime/pluggable_device/pluggable_device_factory.cc:271] Created TensorFlow device (/job:localhost/replica:0/task:0/device:GPU:0 with 0 MB memory) -> physical PluggableDevice (device: 0, name: METAL, pci bus id: <undefined>)\n"
     ]
    }
   ],
   "source": [
    "print(\"\\nTraining Dataset\")\n",
    "train_ds = tf.keras.utils.image_dataset_from_directory(\n",
    "    directory='dataset/train',\n",
    "    validation_split=0.2,\n",
    "    subset='training',\n",
    "    label_mode='binary',\n",
    "    color_mode=config['color_mode'],\n",
    "    seed=config['seed'],\n",
    "    image_size=(config['img_size'], config['img_size']),\n",
    "    batch_size=config['batch_size'],\n",
    ")\n",
    "\n",
    "print(\"\\nValidation Dataset\")\n",
    "val_ds = tf.keras.utils.image_dataset_from_directory(\n",
    "    directory='dataset/train',\n",
    "    validation_split=0.2,\n",
    "    subset='validation',\n",
    "    label_mode='binary',\n",
    "    color_mode=config['color_mode'],\n",
    "    seed=config['seed'],\n",
    "    image_size=(config['img_size'], config['img_size']),\n",
    "    batch_size=config['batch_size'],\n",
    "    shuffle=False\n",
    ")\n",
    "\n",
    "print(\"\\nTesting Dataset\")\n",
    "test_ds = tf.keras.utils.image_dataset_from_directory(\n",
    "    directory='dataset/test',\n",
    "    label_mode='binary',\n",
    "    color_mode=config['color_mode'],\n",
    "    seed=config['seed'],\n",
    "    image_size=(config['img_size'], config['img_size']),\n",
    "    batch_size=config['batch_size'],\n",
    "    shuffle=False\n",
    ")"
   ]
  },
  {
   "cell_type": "code",
   "execution_count": 10,
   "id": "91eafb1f",
   "metadata": {},
   "outputs": [
    {
     "data": {
      "text/plain": [
       "['not_smile', 'smile']"
      ]
     },
     "execution_count": 10,
     "metadata": {},
     "output_type": "execute_result"
    }
   ],
   "source": [
    "train_ds.class_names"
   ]
  },
  {
   "cell_type": "code",
   "execution_count": 9,
   "id": "69cc103a",
   "metadata": {},
   "outputs": [],
   "source": [
    "train_ds = train_ds.cache().shuffle(1000).prefetch(buffer_size=tf.data.AUTOTUNE)\n",
    "val_ds = val_ds.cache().prefetch(buffer_size=tf.data.AUTOTUNE)\n",
    "test_ds = test_ds.cache().prefetch(buffer_size=tf.data.AUTOTUNE)"
   ]
  },
  {
   "cell_type": "markdown",
   "id": "298f8000",
   "metadata": {},
   "source": [
    "### Model Building"
   ]
  },
  {
   "cell_type": "code",
   "execution_count": 11,
   "id": "328a91f8",
   "metadata": {},
   "outputs": [
    {
     "name": "stdout",
     "output_type": "stream",
     "text": [
      "Model: \"sequential\"\n",
      "_________________________________________________________________\n",
      " Layer (type)                Output Shape              Param #   \n",
      "=================================================================\n",
      " rescaling (Rescaling)       (None, 64, 64, 3)         0         \n",
      "                                                                 \n",
      " conv2d (Conv2D)             (None, 64, 64, 16)        448       \n",
      "                                                                 \n",
      " max_pooling2d (MaxPooling2D  (None, 32, 32, 16)       0         \n",
      " )                                                               \n",
      "                                                                 \n",
      " conv2d_1 (Conv2D)           (None, 32, 32, 32)        4640      \n",
      "                                                                 \n",
      " max_pooling2d_1 (MaxPooling  (None, 16, 16, 32)       0         \n",
      " 2D)                                                             \n",
      "                                                                 \n",
      " conv2d_2 (Conv2D)           (None, 16, 16, 64)        18496     \n",
      "                                                                 \n",
      " max_pooling2d_2 (MaxPooling  (None, 8, 8, 64)         0         \n",
      " 2D)                                                             \n",
      "                                                                 \n",
      " flatten (Flatten)           (None, 4096)              0         \n",
      "                                                                 \n",
      " dense (Dense)               (None, 128)               524416    \n",
      "                                                                 \n",
      " dense_1 (Dense)             (None, 1)                 129       \n",
      "                                                                 \n",
      "=================================================================\n",
      "Total params: 548,129\n",
      "Trainable params: 548,129\n",
      "Non-trainable params: 0\n",
      "_________________________________________________________________\n"
     ]
    }
   ],
   "source": [
    "if config['color_mode'] == 'rgb':\n",
    "    input_shape = (config['img_size'], config['img_size'], 3)\n",
    "else:\n",
    "    input_shape = (config['img_size'], config['img_size'], 1)\n",
    "\n",
    "model = tf.keras.Sequential()\n",
    "model.add(tf.keras.layers.Rescaling(1./255, input_shape=input_shape))\n",
    "\n",
    "model.add(tf.keras.layers.Conv2D(16, 3, padding='same', activation='relu'))\n",
    "model.add(tf.keras.layers.MaxPooling2D(pool_size=(2, 2)))\n",
    "\n",
    "model.add(tf.keras.layers.Conv2D(32, 3, padding='same', activation='relu'))\n",
    "model.add(tf.keras.layers.MaxPooling2D(pool_size=(2, 2)))\n",
    "\n",
    "model.add(tf.keras.layers.Conv2D(64, 3, padding='same', activation='relu'))\n",
    "model.add(tf.keras.layers.MaxPooling2D(pool_size=(2, 2)))\n",
    "\n",
    "model.add(tf.keras.layers.Flatten())\n",
    "\n",
    "model.add(tf.keras.layers.Dense(128, activation='relu'))\n",
    "model.add(tf.keras.layers.Dense(1, activation='sigmoid'))\n",
    "\n",
    "model.compile(loss='binary_crossentropy',\n",
    "              optimizer=tf.keras.optimizers.Adam(learning_rate=config['lr']),\n",
    "              metrics='binary_accuracy')\n",
    "\n",
    "model.summary()"
   ]
  },
  {
   "cell_type": "markdown",
   "id": "900e75af",
   "metadata": {},
   "source": [
    "### Training"
   ]
  },
  {
   "cell_type": "code",
   "execution_count": 12,
   "id": "0665d76e",
   "metadata": {},
   "outputs": [
    {
     "name": "stderr",
     "output_type": "stream",
     "text": [
      "\u001b[34m\u001b[1mwandb\u001b[0m: Currently logged in as: \u001b[33mgautamj\u001b[0m. Use \u001b[1m`wandb login --relogin`\u001b[0m to force relogin\n"
     ]
    },
    {
     "data": {
      "text/html": [
       "wandb version 0.12.17 is available!  To upgrade, please run:\n",
       " $ pip install wandb --upgrade"
      ],
      "text/plain": [
       "<IPython.core.display.HTML object>"
      ]
     },
     "metadata": {},
     "output_type": "display_data"
    },
    {
     "data": {
      "text/html": [
       "Tracking run with wandb version 0.12.16"
      ],
      "text/plain": [
       "<IPython.core.display.HTML object>"
      ]
     },
     "metadata": {},
     "output_type": "display_data"
    },
    {
     "data": {
      "text/html": [
       "Run data is saved locally in <code>/Users/gautam/SecondBrain/1Projects/SmileDetection/Smile-Detector/wandb/run-20220607_114427-21eppw6z</code>"
      ],
      "text/plain": [
       "<IPython.core.display.HTML object>"
      ]
     },
     "metadata": {},
     "output_type": "display_data"
    },
    {
     "data": {
      "text/html": [
       "Syncing run <strong><a href=\"https://wandb.ai/gautamj/Smile-Detector/runs/21eppw6z\" target=\"_blank\">baseline2</a></strong> to <a href=\"https://wandb.ai/gautamj/Smile-Detector\" target=\"_blank\">Weights & Biases</a> (<a href=\"https://wandb.me/run\" target=\"_blank\">docs</a>)<br/>"
      ],
      "text/plain": [
       "<IPython.core.display.HTML object>"
      ]
     },
     "metadata": {},
     "output_type": "display_data"
    },
    {
     "data": {
      "text/html": [
       "<button onClick=\"this.nextSibling.style.display='block';this.style.display='none';\">Display W&B run</button><iframe src=\"https://wandb.ai/gautamj/Smile-Detector/runs/21eppw6z?jupyter=true\" style=\"border:none;width:100%;height:420px;display:none;\"></iframe>"
      ],
      "text/plain": [
       "<wandb.sdk.wandb_run.Run at 0x1635d2550>"
      ]
     },
     "execution_count": 12,
     "metadata": {},
     "output_type": "execute_result"
    }
   ],
   "source": [
    "wandb.init(config=config, project='Smile-Detector', name='baseline2')"
   ]
  },
  {
   "cell_type": "code",
   "execution_count": 13,
   "id": "770ebf17",
   "metadata": {},
   "outputs": [
    {
     "name": "stderr",
     "output_type": "stream",
     "text": [
      "\u001b[34m\u001b[1mwandb\u001b[0m: \u001b[33mWARNING\u001b[0m The save_model argument by default saves the model in the HDF5 format that cannot save custom objects like subclassed models and custom layers. This behavior will be deprecated in a future release in favor of the SavedModel format. Meanwhile, the HDF5 model is saved as W&B files and the SavedModel as W&B Artifacts.\n",
      "2022-06-07 11:44:34.488699: W tensorflow/core/platform/profile_utils/cpu_utils.cc:128] Failed to get CPU frequency: 0 Hz\n"
     ]
    },
    {
     "name": "stdout",
     "output_type": "stream",
     "text": [
      "Epoch 1/50\n"
     ]
    },
    {
     "name": "stderr",
     "output_type": "stream",
     "text": [
      "2022-06-07 11:44:34.845140: I tensorflow/core/grappler/optimizers/custom_graph_optimizer_registry.cc:112] Plugin optimizer for device_type GPU is enabled.\n"
     ]
    },
    {
     "name": "stdout",
     "output_type": "stream",
     "text": [
      "35/35 - 2s - loss: 0.6457 - binary_accuracy: 0.6281 - val_loss: 0.4763 - val_binary_accuracy: 0.8821 - _timestamp: 1654582476.0000 - _runtime: 9.0000 - 2s/epoch - 47ms/step\n"
     ]
    },
    {
     "name": "stderr",
     "output_type": "stream",
     "text": [
      "2022-06-07 11:44:35.938391: I tensorflow/core/grappler/optimizers/custom_graph_optimizer_registry.cc:112] Plugin optimizer for device_type GPU is enabled.\n"
     ]
    },
    {
     "name": "stdout",
     "output_type": "stream",
     "text": [
      "Epoch 2/50\n",
      "35/35 - 1s - loss: 0.5249 - binary_accuracy: 0.7415 - val_loss: 0.5082 - val_binary_accuracy: 0.7536 - _timestamp: 1654582476.0000 - _runtime: 9.0000 - 783ms/epoch - 22ms/step\n",
      "Epoch 3/50\n",
      "35/35 - 1s - loss: 0.4080 - binary_accuracy: 0.8161 - val_loss: 0.2029 - val_binary_accuracy: 0.9250 - _timestamp: 1654582477.0000 - _runtime: 10.0000 - 834ms/epoch - 24ms/step\n",
      "Epoch 4/50\n",
      "35/35 - 1s - loss: 0.3366 - binary_accuracy: 0.8562 - val_loss: 0.1899 - val_binary_accuracy: 0.9321 - _timestamp: 1654582478.0000 - _runtime: 11.0000 - 804ms/epoch - 23ms/step\n",
      "Epoch 5/50\n",
      "35/35 - 1s - loss: 0.2860 - binary_accuracy: 0.8808 - val_loss: 0.2051 - val_binary_accuracy: 0.9054 - _timestamp: 1654582479.0000 - _runtime: 12.0000 - 753ms/epoch - 22ms/step\n",
      "Epoch 6/50\n",
      "35/35 - 1s - loss: 0.2546 - binary_accuracy: 0.8897 - val_loss: 0.3009 - val_binary_accuracy: 0.8536 - _timestamp: 1654582480.0000 - _runtime: 13.0000 - 813ms/epoch - 23ms/step\n",
      "Epoch 7/50\n",
      "35/35 - 1s - loss: 0.2263 - binary_accuracy: 0.8973 - val_loss: 0.2288 - val_binary_accuracy: 0.8964 - _timestamp: 1654582480.0000 - _runtime: 13.0000 - 745ms/epoch - 21ms/step\n",
      "Epoch 8/50\n",
      "35/35 - 1s - loss: 0.2009 - binary_accuracy: 0.9147 - val_loss: 0.2571 - val_binary_accuracy: 0.8679 - _timestamp: 1654582481.0000 - _runtime: 14.0000 - 733ms/epoch - 21ms/step\n",
      "Epoch 9/50\n",
      "35/35 - 1s - loss: 0.1858 - binary_accuracy: 0.9254 - val_loss: 0.1442 - val_binary_accuracy: 0.9357 - _timestamp: 1654582482.0000 - _runtime: 15.0000 - 774ms/epoch - 22ms/step\n",
      "Epoch 10/50\n",
      "35/35 - 1s - loss: 0.1673 - binary_accuracy: 0.9321 - val_loss: 0.3008 - val_binary_accuracy: 0.8589 - _timestamp: 1654582483.0000 - _runtime: 16.0000 - 759ms/epoch - 22ms/step\n",
      "Epoch 11/50\n",
      "35/35 - 1s - loss: 0.1505 - binary_accuracy: 0.9379 - val_loss: 0.1135 - val_binary_accuracy: 0.9536 - _timestamp: 1654582483.0000 - _runtime: 16.0000 - 793ms/epoch - 23ms/step\n",
      "Epoch 12/50\n",
      "35/35 - 1s - loss: 0.1304 - binary_accuracy: 0.9504 - val_loss: 0.1695 - val_binary_accuracy: 0.9286 - _timestamp: 1654582484.0000 - _runtime: 17.0000 - 761ms/epoch - 22ms/step\n",
      "Epoch 13/50\n",
      "35/35 - 1s - loss: 0.1226 - binary_accuracy: 0.9527 - val_loss: 0.1239 - val_binary_accuracy: 0.9446 - _timestamp: 1654582485.0000 - _runtime: 18.0000 - 737ms/epoch - 21ms/step\n",
      "Epoch 14/50\n",
      "35/35 - 1s - loss: 0.0946 - binary_accuracy: 0.9692 - val_loss: 0.1731 - val_binary_accuracy: 0.9304 - _timestamp: 1654582486.0000 - _runtime: 19.0000 - 754ms/epoch - 22ms/step\n",
      "Epoch 15/50\n",
      "35/35 - 1s - loss: 0.0796 - binary_accuracy: 0.9710 - val_loss: 0.1440 - val_binary_accuracy: 0.9411 - _timestamp: 1654582486.0000 - _runtime: 19.0000 - 733ms/epoch - 21ms/step\n",
      "Epoch 16/50\n",
      "35/35 - 1s - loss: 0.0747 - binary_accuracy: 0.9705 - val_loss: 0.1471 - val_binary_accuracy: 0.9536 - _timestamp: 1654582487.0000 - _runtime: 20.0000 - 787ms/epoch - 22ms/step\n",
      "Epoch 17/50\n",
      "35/35 - 1s - loss: 0.0669 - binary_accuracy: 0.9741 - val_loss: 0.1009 - val_binary_accuracy: 0.9625 - _timestamp: 1654582488.0000 - _runtime: 21.0000 - 841ms/epoch - 24ms/step\n",
      "Epoch 18/50\n",
      "35/35 - 1s - loss: 0.0739 - binary_accuracy: 0.9741 - val_loss: 0.1754 - val_binary_accuracy: 0.9393 - _timestamp: 1654582489.0000 - _runtime: 22.0000 - 810ms/epoch - 23ms/step\n",
      "Epoch 19/50\n",
      "35/35 - 1s - loss: 0.0413 - binary_accuracy: 0.9884 - val_loss: 0.1471 - val_binary_accuracy: 0.9518 - _timestamp: 1654582490.0000 - _runtime: 23.0000 - 785ms/epoch - 22ms/step\n",
      "Epoch 20/50\n",
      "35/35 - 1s - loss: 0.0338 - binary_accuracy: 0.9884 - val_loss: 0.1235 - val_binary_accuracy: 0.9643 - _timestamp: 1654582491.0000 - _runtime: 24.0000 - 799ms/epoch - 23ms/step\n",
      "Epoch 21/50\n",
      "35/35 - 1s - loss: 0.0256 - binary_accuracy: 0.9929 - val_loss: 0.1377 - val_binary_accuracy: 0.9661 - _timestamp: 1654582491.0000 - _runtime: 24.0000 - 778ms/epoch - 22ms/step\n",
      "Epoch 22/50\n",
      "35/35 - 1s - loss: 0.0202 - binary_accuracy: 0.9960 - val_loss: 0.1299 - val_binary_accuracy: 0.9643 - _timestamp: 1654582492.0000 - _runtime: 25.0000 - 752ms/epoch - 21ms/step\n",
      "Epoch 23/50\n",
      "35/35 - 1s - loss: 0.0145 - binary_accuracy: 0.9978 - val_loss: 0.1155 - val_binary_accuracy: 0.9643 - _timestamp: 1654582493.0000 - _runtime: 26.0000 - 728ms/epoch - 21ms/step\n",
      "Epoch 24/50\n",
      "35/35 - 1s - loss: 0.0176 - binary_accuracy: 0.9969 - val_loss: 0.1449 - val_binary_accuracy: 0.9625 - _timestamp: 1654582494.0000 - _runtime: 27.0000 - 744ms/epoch - 21ms/step\n",
      "Epoch 25/50\n",
      "35/35 - 1s - loss: 0.0113 - binary_accuracy: 0.9973 - val_loss: 0.1574 - val_binary_accuracy: 0.9625 - _timestamp: 1654582494.0000 - _runtime: 27.0000 - 749ms/epoch - 21ms/step\n",
      "Epoch 26/50\n",
      "35/35 - 1s - loss: 0.0078 - binary_accuracy: 0.9991 - val_loss: 0.1658 - val_binary_accuracy: 0.9625 - _timestamp: 1654582495.0000 - _runtime: 28.0000 - 736ms/epoch - 21ms/step\n",
      "Epoch 27/50\n",
      "35/35 - 1s - loss: 0.0084 - binary_accuracy: 0.9991 - val_loss: 0.1786 - val_binary_accuracy: 0.9589 - _timestamp: 1654582496.0000 - _runtime: 29.0000 - 738ms/epoch - 21ms/step\n",
      "Epoch 28/50\n",
      "35/35 - 1s - loss: 0.0158 - binary_accuracy: 0.9969 - val_loss: 0.2534 - val_binary_accuracy: 0.9429 - _timestamp: 1654582497.0000 - _runtime: 30.0000 - 739ms/epoch - 21ms/step\n",
      "Epoch 29/50\n",
      "35/35 - 1s - loss: 0.0237 - binary_accuracy: 0.9942 - val_loss: 0.0891 - val_binary_accuracy: 0.9732 - _timestamp: 1654582497.0000 - _runtime: 30.0000 - 804ms/epoch - 23ms/step\n",
      "Epoch 30/50\n",
      "35/35 - 1s - loss: 0.0223 - binary_accuracy: 0.9911 - val_loss: 0.0811 - val_binary_accuracy: 0.9786 - _timestamp: 1654582498.0000 - _runtime: 31.0000 - 808ms/epoch - 23ms/step\n",
      "Epoch 31/50\n",
      "35/35 - 1s - loss: 0.0173 - binary_accuracy: 0.9960 - val_loss: 0.2190 - val_binary_accuracy: 0.9589 - _timestamp: 1654582499.0000 - _runtime: 32.0000 - 763ms/epoch - 22ms/step\n",
      "Epoch 32/50\n",
      "35/35 - 1s - loss: 0.0059 - binary_accuracy: 0.9991 - val_loss: 0.1958 - val_binary_accuracy: 0.9589 - _timestamp: 1654582500.0000 - _runtime: 33.0000 - 743ms/epoch - 21ms/step\n",
      "Epoch 33/50\n",
      "35/35 - 1s - loss: 0.0064 - binary_accuracy: 0.9996 - val_loss: 0.0959 - val_binary_accuracy: 0.9786 - _timestamp: 1654582500.0000 - _runtime: 33.0000 - 739ms/epoch - 21ms/step\n",
      "Epoch 34/50\n",
      "35/35 - 1s - loss: 0.0073 - binary_accuracy: 0.9987 - val_loss: 0.3101 - val_binary_accuracy: 0.9411 - _timestamp: 1654582501.0000 - _runtime: 34.0000 - 742ms/epoch - 21ms/step\n",
      "Epoch 35/50\n",
      "35/35 - 1s - loss: 0.0135 - binary_accuracy: 0.9960 - val_loss: 0.2228 - val_binary_accuracy: 0.9536 - _timestamp: 1654582502.0000 - _runtime: 35.0000 - 746ms/epoch - 21ms/step\n",
      "Epoch 36/50\n",
      "35/35 - 1s - loss: 0.0133 - binary_accuracy: 0.9951 - val_loss: 0.3217 - val_binary_accuracy: 0.9357 - _timestamp: 1654582503.0000 - _runtime: 36.0000 - 739ms/epoch - 21ms/step\n",
      "Epoch 37/50\n",
      "35/35 - 1s - loss: 0.0186 - binary_accuracy: 0.9946 - val_loss: 0.2439 - val_binary_accuracy: 0.9554 - _timestamp: 1654582503.0000 - _runtime: 36.0000 - 739ms/epoch - 21ms/step\n",
      "Epoch 38/50\n",
      "35/35 - 1s - loss: 0.0551 - binary_accuracy: 0.9812 - val_loss: 0.1835 - val_binary_accuracy: 0.9607 - _timestamp: 1654582504.0000 - _runtime: 37.0000 - 749ms/epoch - 21ms/step\n",
      "Epoch 39/50\n",
      "35/35 - 1s - loss: 0.1081 - binary_accuracy: 0.9598 - val_loss: 0.1102 - val_binary_accuracy: 0.9732 - _timestamp: 1654582505.0000 - _runtime: 38.0000 - 740ms/epoch - 21ms/step\n",
      "Epoch 40/50\n",
      "35/35 - 1s - loss: 0.0333 - binary_accuracy: 0.9879 - val_loss: 0.1771 - val_binary_accuracy: 0.9589 - _timestamp: 1654582506.0000 - _runtime: 39.0000 - 733ms/epoch - 21ms/step\n",
      "Epoch 41/50\n",
      "35/35 - 1s - loss: 0.0118 - binary_accuracy: 0.9982 - val_loss: 0.1588 - val_binary_accuracy: 0.9714 - _timestamp: 1654582506.0000 - _runtime: 39.0000 - 760ms/epoch - 22ms/step\n",
      "Epoch 42/50\n",
      "35/35 - 1s - loss: 0.0051 - binary_accuracy: 0.9991 - val_loss: 0.1883 - val_binary_accuracy: 0.9625 - _timestamp: 1654582507.0000 - _runtime: 40.0000 - 758ms/epoch - 22ms/step\n",
      "Epoch 43/50\n",
      "35/35 - 1s - loss: 0.0034 - binary_accuracy: 0.9996 - val_loss: 0.2001 - val_binary_accuracy: 0.9607 - _timestamp: 1654582508.0000 - _runtime: 41.0000 - 747ms/epoch - 21ms/step\n",
      "Epoch 44/50\n",
      "35/35 - 1s - loss: 0.0022 - binary_accuracy: 1.0000 - val_loss: 0.1879 - val_binary_accuracy: 0.9625 - _timestamp: 1654582509.0000 - _runtime: 42.0000 - 743ms/epoch - 21ms/step\n",
      "Epoch 45/50\n",
      "35/35 - 1s - loss: 0.0020 - binary_accuracy: 1.0000 - val_loss: 0.2125 - val_binary_accuracy: 0.9625 - _timestamp: 1654582509.0000 - _runtime: 42.0000 - 754ms/epoch - 22ms/step\n"
     ]
    },
    {
     "name": "stdout",
     "output_type": "stream",
     "text": [
      "Epoch 46/50\n",
      "35/35 - 1s - loss: 0.0014 - binary_accuracy: 1.0000 - val_loss: 0.1982 - val_binary_accuracy: 0.9643 - _timestamp: 1654582510.0000 - _runtime: 43.0000 - 737ms/epoch - 21ms/step\n",
      "Epoch 47/50\n",
      "35/35 - 1s - loss: 0.0012 - binary_accuracy: 1.0000 - val_loss: 0.1877 - val_binary_accuracy: 0.9661 - _timestamp: 1654582511.0000 - _runtime: 44.0000 - 739ms/epoch - 21ms/step\n",
      "Epoch 48/50\n",
      "35/35 - 1s - loss: 0.0010 - binary_accuracy: 1.0000 - val_loss: 0.2053 - val_binary_accuracy: 0.9643 - _timestamp: 1654582512.0000 - _runtime: 45.0000 - 738ms/epoch - 21ms/step\n",
      "Epoch 49/50\n",
      "35/35 - 1s - loss: 8.8596e-04 - binary_accuracy: 1.0000 - val_loss: 0.2030 - val_binary_accuracy: 0.9643 - _timestamp: 1654582512.0000 - _runtime: 45.0000 - 734ms/epoch - 21ms/step\n",
      "Epoch 50/50\n",
      "35/35 - 1s - loss: 7.8656e-04 - binary_accuracy: 1.0000 - val_loss: 0.1975 - val_binary_accuracy: 0.9661 - _timestamp: 1654582513.0000 - _runtime: 46.0000 - 741ms/epoch - 21ms/step\n"
     ]
    }
   ],
   "source": [
    "mc = tf.keras.callbacks.ModelCheckpoint(\n",
    "    filepath='models/weights-{epoch:03d}-{val_loss:.4f}.hdf5',\n",
    "    monitor='val_loss',\n",
    "    save_best_only=True,\n",
    "    save_weights_only=False,\n",
    ")\n",
    "\n",
    "wb = wandb.keras.WandbCallback()\n",
    "\n",
    "callbacks = [mc, wb]\n",
    "\n",
    "history = model.fit(train_ds, validation_data=val_ds, epochs=config['epochs'],\n",
    "                    callbacks=callbacks, verbose=2)"
   ]
  },
  {
   "cell_type": "code",
   "execution_count": 14,
   "id": "eec056b4",
   "metadata": {},
   "outputs": [
    {
     "name": "stderr",
     "output_type": "stream",
     "text": [
      "/Users/gautam/miniforge3/lib/python3.9/site-packages/plotly/matplotlylib/renderer.py:611: UserWarning:\n",
      "\n",
      "I found a path object that I don't think is part of a bar chart. Ignoring.\n",
      "\n"
     ]
    }
   ],
   "source": [
    "fig, ax = plt.subplots()\n",
    "loss = history.history['loss']\n",
    "val_loss = history.history['val_loss']\n",
    "ax.plot(loss, label='loss')\n",
    "ax.plot(val_loss, label='val_loss')\n",
    "ax.legend()\n",
    "ax.set_xlabel('Epochs')\n",
    "ax.set_ylabel('Loss')\n",
    "wandb.log({'Loss Chart': fig})\n",
    "plt.show()"
   ]
  },
  {
   "cell_type": "code",
   "execution_count": 15,
   "id": "e6290f47",
   "metadata": {},
   "outputs": [],
   "source": [
    "fig, ax = plt.subplots()\n",
    "acc = history.history['binary_accuracy']\n",
    "val_acc = history.history['val_binary_accuracy']\n",
    "ax.plot(acc, label='acc')\n",
    "ax.plot(val_acc, label='val_acc')\n",
    "ax.legend()\n",
    "ax.set_xlabel('Epochs')\n",
    "ax.set_ylabel('Accuracy')\n",
    "wandb.log({'Acc Chart': fig})\n",
    "plt.show()"
   ]
  },
  {
   "cell_type": "markdown",
   "id": "0d5aba00",
   "metadata": {},
   "source": [
    "### Testing"
   ]
  },
  {
   "cell_type": "code",
   "execution_count": 16,
   "id": "37fb9572",
   "metadata": {},
   "outputs": [
    {
     "name": "stdout",
     "output_type": "stream",
     "text": [
      "Model: \"sequential\"\n",
      "_________________________________________________________________\n",
      " Layer (type)                Output Shape              Param #   \n",
      "=================================================================\n",
      " rescaling (Rescaling)       (None, 64, 64, 3)         0         \n",
      "                                                                 \n",
      " conv2d (Conv2D)             (None, 64, 64, 16)        448       \n",
      "                                                                 \n",
      " max_pooling2d (MaxPooling2D  (None, 32, 32, 16)       0         \n",
      " )                                                               \n",
      "                                                                 \n",
      " conv2d_1 (Conv2D)           (None, 32, 32, 32)        4640      \n",
      "                                                                 \n",
      " max_pooling2d_1 (MaxPooling  (None, 16, 16, 32)       0         \n",
      " 2D)                                                             \n",
      "                                                                 \n",
      " conv2d_2 (Conv2D)           (None, 16, 16, 64)        18496     \n",
      "                                                                 \n",
      " max_pooling2d_2 (MaxPooling  (None, 8, 8, 64)         0         \n",
      " 2D)                                                             \n",
      "                                                                 \n",
      " flatten (Flatten)           (None, 4096)              0         \n",
      "                                                                 \n",
      " dense (Dense)               (None, 128)               524416    \n",
      "                                                                 \n",
      " dense_1 (Dense)             (None, 1)                 129       \n",
      "                                                                 \n",
      "=================================================================\n",
      "Total params: 548,129\n",
      "Trainable params: 548,129\n",
      "Non-trainable params: 0\n",
      "_________________________________________________________________\n"
     ]
    }
   ],
   "source": [
    "model = tf.keras.models.load_model('models/baseline.hdf5')\n",
    "model.summary()"
   ]
  },
  {
   "cell_type": "code",
   "execution_count": 17,
   "id": "c02fc0b2",
   "metadata": {},
   "outputs": [
    {
     "name": "stderr",
     "output_type": "stream",
     "text": [
      "2022-06-07 11:45:14.051443: I tensorflow/core/grappler/optimizers/custom_graph_optimizer_registry.cc:112] Plugin optimizer for device_type GPU is enabled.\n"
     ]
    },
    {
     "name": "stdout",
     "output_type": "stream",
     "text": [
      "19/19 [==============================] - 0s 14ms/step - loss: 0.6934 - binary_accuracy: 0.8542\n"
     ]
    }
   ],
   "source": [
    "test_loss, test_acc = model.evaluate(test_ds)\n",
    "wandb.log({'test_loss': test_loss})\n",
    "wandb.log({'test_acc': test_acc})"
   ]
  },
  {
   "cell_type": "code",
   "execution_count": 18,
   "id": "a31e4974",
   "metadata": {},
   "outputs": [
    {
     "data": {
      "text/html": [
       "Waiting for W&B process to finish... <strong style=\"color:green\">(success).</strong>"
      ],
      "text/plain": [
       "<IPython.core.display.HTML object>"
      ]
     },
     "metadata": {},
     "output_type": "display_data"
    },
    {
     "data": {
      "application/vnd.jupyter.widget-view+json": {
       "model_id": "",
       "version_major": 2,
       "version_minor": 0
      },
      "text/plain": [
       "VBox(children=(Label(value='6.349 MB of 6.349 MB uploaded (0.000 MB deduped)\\r'), FloatProgress(value=1.0, max…"
      ]
     },
     "metadata": {},
     "output_type": "display_data"
    },
    {
     "data": {
      "text/html": [
       "<style>\n",
       "    table.wandb td:nth-child(1) { padding: 0 10px; text-align: left ; width: auto;} td:nth-child(2) {text-align: left ; width: 100%}\n",
       "    .wandb-row { display: flex; flex-direction: row; flex-wrap: wrap; justify-content: flex-start; width: 100% }\n",
       "    .wandb-col { display: flex; flex-direction: column; flex-basis: 100%; flex: 1; padding: 10px; }\n",
       "    </style>\n",
       "<div class=\"wandb-row\"><div class=\"wandb-col\"><h3>Run history:</h3><br/><table class=\"wandb\"><tr><td>binary_accuracy</td><td>▁▃▅▅▆▆▆▇▇▇▇▇▇██████████████████▇████████</td></tr><tr><td>epoch</td><td>▁▁▁▁▂▂▂▂▂▃▃▃▃▃▃▄▄▄▄▄▅▅▅▅▅▅▆▆▆▆▆▆▇▇▇▇▇███</td></tr><tr><td>loss</td><td>█▇▅▅▄▃▃▃▃▂▂▂▂▂▂▁▁▁▁▁▁▁▁▁▁▁▁▁▁▁▂▂▁▁▁▁▁▁▁▁</td></tr><tr><td>test_acc</td><td>▁</td></tr><tr><td>test_loss</td><td>▁</td></tr><tr><td>val_binary_accuracy</td><td>▅▁▆▇▄▅▅▇▇▆▇▇▇▇▇▇███▇▇▇▇█▇▇█▇▇▇▇██▇▇▇████</td></tr><tr><td>val_loss</td><td>▇█▃▃▅▃▄▂▁▂▂▂▂▁▂▂▂▂▁▂▂▂▄▁▃▃▁▅▅▄▃▁▂▃▃▃▃▃▃▃</td></tr></table><br/></div><div class=\"wandb-col\"><h3>Run summary:</h3><br/><table class=\"wandb\"><tr><td>best_epoch</td><td>29</td></tr><tr><td>best_val_loss</td><td>0.08107</td></tr><tr><td>binary_accuracy</td><td>1.0</td></tr><tr><td>epoch</td><td>49</td></tr><tr><td>loss</td><td>0.00079</td></tr><tr><td>test_acc</td><td>0.85417</td></tr><tr><td>test_loss</td><td>0.69345</td></tr><tr><td>val_binary_accuracy</td><td>0.96607</td></tr><tr><td>val_loss</td><td>0.19747</td></tr></table><br/></div></div>"
      ],
      "text/plain": [
       "<IPython.core.display.HTML object>"
      ]
     },
     "metadata": {},
     "output_type": "display_data"
    },
    {
     "data": {
      "text/html": [
       "Synced <strong style=\"color:#cdcd00\">baseline2</strong>: <a href=\"https://wandb.ai/gautamj/Smile-Detector/runs/21eppw6z\" target=\"_blank\">https://wandb.ai/gautamj/Smile-Detector/runs/21eppw6z</a><br/>Synced 6 W&B file(s), 2 media file(s), 0 artifact file(s) and 1 other file(s)"
      ],
      "text/plain": [
       "<IPython.core.display.HTML object>"
      ]
     },
     "metadata": {},
     "output_type": "display_data"
    },
    {
     "data": {
      "text/html": [
       "Find logs at: <code>./wandb/run-20220607_114427-21eppw6z/logs</code>"
      ],
      "text/plain": [
       "<IPython.core.display.HTML object>"
      ]
     },
     "metadata": {},
     "output_type": "display_data"
    }
   ],
   "source": [
    "wandb.finish()"
   ]
  }
 ],
 "metadata": {
  "kernelspec": {
   "display_name": "Python 3 (ipykernel)",
   "language": "python",
   "name": "python3"
  },
  "language_info": {
   "codemirror_mode": {
    "name": "ipython",
    "version": 3
   },
   "file_extension": ".py",
   "mimetype": "text/x-python",
   "name": "python",
   "nbconvert_exporter": "python",
   "pygments_lexer": "ipython3",
   "version": "3.9.7"
  }
 },
 "nbformat": 4,
 "nbformat_minor": 5
}
